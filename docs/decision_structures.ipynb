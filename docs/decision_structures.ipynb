{
 "cells": [
  {
   "cell_type": "markdown",
   "id": "42fb418a-5b6e-4d95-8216-245951ed9fda",
   "metadata": {},
   "source": [
    "## Decision Structures"
   ]
  },
  {
   "cell_type": "code",
   "execution_count": 1,
   "id": "23775b3a-22f0-435c-a707-e620849e7ce3",
   "metadata": {},
   "outputs": [],
   "source": [
    "import \"fmt\""
   ]
  },
  {
   "cell_type": "code",
   "execution_count": 2,
   "id": "12ad662c-ac1e-4e1c-9e62-fae28533451e",
   "metadata": {},
   "outputs": [],
   "source": [
    "var isTrue bool"
   ]
  },
  {
   "cell_type": "code",
   "execution_count": 3,
   "id": "99ba7b93-069e-4a17-bf12-5e5352a41628",
   "metadata": {},
   "outputs": [],
   "source": [
    "isTrue = true"
   ]
  },
  {
   "cell_type": "code",
   "execution_count": 4,
   "id": "5ee24f5b-f11d-4d48-bcae-83db24b65b2c",
   "metadata": {},
   "outputs": [
    {
     "name": "stdout",
     "output_type": "stream",
     "text": [
      "isTrue is true\n"
     ]
    }
   ],
   "source": [
    "if isTrue {\n",
    "    fmt.Println(\"isTrue is\", isTrue)\n",
    "}"
   ]
  },
  {
   "cell_type": "code",
   "execution_count": 5,
   "id": "2a07c556-d782-470e-ad5c-0ae662650e1d",
   "metadata": {},
   "outputs": [
    {
     "name": "stdout",
     "output_type": "stream",
     "text": [
      "isTrue is true\n"
     ]
    }
   ],
   "source": [
    "if isTrue == true {\n",
    "    fmt.Println(\"isTrue is\", isTrue)\n",
    "} else {\n",
    "    fmt.Println(\"isTrue wasn't true\")\n",
    "}"
   ]
  },
  {
   "cell_type": "code",
   "execution_count": 6,
   "id": "71fac754-a4fe-486f-aed9-fbb8fa6ba05a",
   "metadata": {},
   "outputs": [],
   "source": [
    "myNum := 100"
   ]
  },
  {
   "cell_type": "code",
   "execution_count": 7,
   "id": "b478ab3c-97ca-42b1-9bac-b9027d0a262c",
   "metadata": {},
   "outputs": [
    {
     "name": "stdout",
     "output_type": "stream",
     "text": [
      "myNum is greater than 99 and isTrue is `true`\n"
     ]
    }
   ],
   "source": [
    "if myNum > 99 && isTrue {\n",
    "    fmt.Println(\"myNum is greater than 99 and isTrue is `true`\")\n",
    "} else {\n",
    "    fmt.Println(\"some condition was not met\")\n",
    "}"
   ]
  },
  {
   "cell_type": "markdown",
   "id": "6883e762",
   "metadata": {},
   "source": []
  },
  {
   "cell_type": "code",
   "execution_count": 8,
   "id": "5b39e9a5-4166-4748-b934-38766717e404",
   "metadata": {},
   "outputs": [
    {
     "name": "stdout",
     "output_type": "stream",
     "text": [
      "myNum is greater than 99 and isTrue is `true`\n"
     ]
    }
   ],
   "source": [
    "if myNum > 99 && isTrue {\n",
    "    fmt.Println(\"myNum is greater than 99 and isTrue is `true`\")\n",
    "} else if myNum < 100 && isTrue {\n",
    "    fmt.Println(\"myNum is less than 100\")\n",
    "}"
   ]
  },
  {
   "cell_type": "markdown",
   "id": "aacfb969-323a-4fa1-8450-502320c5de15",
   "metadata": {},
   "source": [
    "### switch statement"
   ]
  },
  {
   "cell_type": "code",
   "execution_count": 11,
   "id": "bbded52e",
   "metadata": {},
   "outputs": [
    {
     "name": "stdout",
     "output_type": "stream",
     "text": [
      "cat is set to whatever\n"
     ]
    }
   ],
   "source": [
    "myVar := \"horse\"\n",
    "\n",
    "switch myVar {\n",
    "\tcase \"cat\":\n",
    "\t\tfmt.Println(\"cat is set to cat\")\n",
    "\n",
    "\tcase \"dog\":\n",
    "\t\tfmt.Println(\"cat is set to dog\")\n",
    "\n",
    "\tcase \"fish\":\n",
    "\t\tfmt.Println(\"cat is set to fish\")\n",
    "\t\n",
    "\tdefault:\n",
    "\t\tfmt.Println(\"cat is set to whatever\")\n",
    "}"
   ]
  },
  {
   "cell_type": "code",
   "execution_count": null,
   "id": "67b27427",
   "metadata": {},
   "outputs": [],
   "source": []
  }
 ],
 "metadata": {
  "kernelspec": {
   "display_name": "Go",
   "language": "go",
   "name": "go"
  },
  "language_info": {
   "codemirror_mode": "",
   "file_extension": ".go",
   "mimetype": "",
   "name": "go",
   "nbconvert_exporter": "",
   "pygments_lexer": "",
   "version": "go1.17.2"
  }
 },
 "nbformat": 4,
 "nbformat_minor": 5
}
