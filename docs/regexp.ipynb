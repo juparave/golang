{
 "cells": [
  {
   "cell_type": "markdown",
   "id": "9159b6e2-9dbb-4d65-b1aa-995097c99686",
   "metadata": {},
   "source": [
    "# RegEx\n",
    "\n",
    "Online regex builders\n",
    "\n",
    "* https://regex101.com/\n",
    "* https://regexr.com/"
   ]
  },
  {
   "cell_type": "code",
   "execution_count": 7,
   "id": "e13f907a-5be9-43a5-b23f-1e536fae69fe",
   "metadata": {},
   "outputs": [],
   "source": [
    "import (\n",
    "    \"fmt\"\n",
    "    \"regexp\"\n",
    "    \"strings\"\n",
    ")"
   ]
  },
  {
   "cell_type": "code",
   "execution_count": 8,
   "id": "c368e884-34af-4f16-916e-0ba384340bd9",
   "metadata": {},
   "outputs": [],
   "source": [
    "str := \"target area: x=20..30, y=-10..-5\"\n",
    "var re = regexp.MustCompile(`(?m)x=(.*?),\\sy=(.*?)$`)\n",
    "\n",
    "m := re.FindStringSubmatch(str)\n",
    "// temp string values\n",
    "tX := strings.Split(m[1], \"..\")\n",
    "tY := strings.Split(m[2], \"..\")"
   ]
  },
  {
   "cell_type": "code",
   "execution_count": 9,
   "id": "7d58dfaa-6fb5-43ef-bec8-f9554668486c",
   "metadata": {},
   "outputs": [
    {
     "name": "stdout",
     "output_type": "stream",
     "text": [
      "X range: [20 30]\n",
      "Y range: [-10 -5]"
     ]
    },
    {
     "data": {
      "text/plain": [
       "34 <nil>"
      ]
     },
     "execution_count": 9,
     "metadata": {},
     "output_type": "execute_result"
    }
   ],
   "source": [
    "fmt.Printf(\"X range: %v\\nY range: %v\", tX, tY)"
   ]
  },
  {
   "cell_type": "code",
   "execution_count": null,
   "id": "3ee0171d-07dc-4202-9015-f1dd4eeb1e91",
   "metadata": {},
   "outputs": [],
   "source": []
  }
 ],
 "metadata": {
  "kernelspec": {
   "display_name": "Go",
   "language": "go",
   "name": "gophernotes"
  },
  "language_info": {
   "codemirror_mode": "",
   "file_extension": ".go",
   "mimetype": "",
   "name": "go",
   "nbconvert_exporter": "",
   "pygments_lexer": "",
   "version": "go1.17.2"
  }
 },
 "nbformat": 4,
 "nbformat_minor": 5
}
