{
 "cells": [
  {
   "cell_type": "code",
   "execution_count": 17,
   "id": "ea6245b3-f7f3-46d3-93bd-a14ec0328699",
   "metadata": {},
   "outputs": [],
   "source": [
    "import \"fmt\"\n",
    "import \"log\""
   ]
  },
  {
   "cell_type": "code",
   "execution_count": 2,
   "id": "58645ca9-52b1-4149-b471-a9a1507f55ad",
   "metadata": {},
   "outputs": [],
   "source": [
    "var myString string\n",
    "var myInt int\n",
    "\n",
    "myString = \"Hello\"\n",
    "myInt = 11\n",
    "\n",
    "mySecondString := \"Another string\""
   ]
  },
  {
   "cell_type": "code",
   "execution_count": 5,
   "id": "34b19f0d-0817-46fd-ae11-9e9ffb8a3b2c",
   "metadata": {},
   "outputs": [
    {
     "name": "stdout",
     "output_type": "stream",
     "text": [
      "Hello 11 Another string\n"
     ]
    },
    {
     "data": {
      "text/plain": [
       "24 <nil>"
      ]
     },
     "execution_count": 5,
     "metadata": {},
     "output_type": "execute_result"
    }
   ],
   "source": [
    "fmt.Println(myString, myInt, mySecondString)"
   ]
  },
  {
   "cell_type": "code",
   "execution_count": 6,
   "id": "b2572dad-6f01-4cac-b27e-3158ccc91eb2",
   "metadata": {},
   "outputs": [],
   "source": [
    "myMap := make(map[string]string)\n",
    "\n",
    "myMap[\"Dog\"] = \"Sookie\"\n",
    "myMap[\"OtherDog\"] = \"Nikky\""
   ]
  },
  {
   "cell_type": "code",
   "execution_count": 10,
   "id": "607c01d6-f64d-4b5a-a290-73c33bf8b882",
   "metadata": {},
   "outputs": [
    {
     "name": "stdout",
     "output_type": "stream",
     "text": [
      "map[Dog:Sookie OtherDog:Nikky]\n"
     ]
    },
    {
     "data": {
      "text/plain": [
       "31 <nil>"
      ]
     },
     "execution_count": 10,
     "metadata": {},
     "output_type": "execute_result"
    }
   ],
   "source": [
    "fmt.Println(myMap)"
   ]
  },
  {
   "cell_type": "code",
   "execution_count": 12,
   "id": "28ab743f-a1e0-4c5d-872b-32a89e8ec7e2",
   "metadata": {},
   "outputs": [],
   "source": [
    "type User struct {\n",
    "    FirstName string\n",
    "    LastName string\n",
    "}\n",
    "\n",
    "myMap := make(map[string]User)"
   ]
  },
  {
   "cell_type": "code",
   "execution_count": 15,
   "id": "dad93fb0-db4a-4404-a0b8-6038843e4867",
   "metadata": {},
   "outputs": [],
   "source": [
    "me := User {\n",
    "    FirstName: \"John\",\n",
    "    LastName: \"Wick\",\n",
    "}\n",
    "\n",
    "myMap[\"me\"] = me"
   ]
  },
  {
   "cell_type": "code",
   "execution_count": 19,
   "id": "15cdeb5c-6b52-43df-8393-f2ba33a59863",
   "metadata": {},
   "outputs": [
    {
     "name": "stdout",
     "output_type": "stream",
     "text": [
      "myMap map[me:{John Wick}]\n"
     ]
    },
    {
     "data": {
      "text/plain": [
       "26 <nil>"
      ]
     },
     "execution_count": 19,
     "metadata": {},
     "output_type": "execute_result"
    }
   ],
   "source": [
    "fmt.Println(\"myMap\", myMap)"
   ]
  },
  {
   "cell_type": "code",
   "execution_count": null,
   "id": "82be378e-7572-4cdc-a68f-79fb896f5b1b",
   "metadata": {},
   "outputs": [],
   "source": []
  }
 ],
 "metadata": {
  "kernelspec": {
   "display_name": "Go",
   "language": "go",
   "name": "gophernotes"
  },
  "language_info": {
   "codemirror_mode": "",
   "file_extension": ".go",
   "mimetype": "",
   "name": "go",
   "nbconvert_exporter": "",
   "pygments_lexer": "",
   "version": "go1.17.2"
  }
 },
 "nbformat": 4,
 "nbformat_minor": 5
}
