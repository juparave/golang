{
 "cells": [
  {
   "cell_type": "markdown",
   "id": "771b7259-8a95-4ea3-a003-3783f02a58a7",
   "metadata": {},
   "source": [
    "## Maps and Structs"
   ]
  },
  {
   "cell_type": "code",
   "execution_count": 1,
   "id": "aa34ba04-5c58-4ce7-8789-f44293056687",
   "metadata": {},
   "outputs": [],
   "source": [
    "import \"fmt\"\n",
    "import \"log\""
   ]
  },
  {
   "cell_type": "code",
   "execution_count": 2,
   "id": "ed36bdf7-fae5-4dfa-ac95-1980f392468c",
   "metadata": {},
   "outputs": [],
   "source": [
    "var myString string\n",
    "var myInt int\n",
    "\n",
    "myString = \"Hello\"\n",
    "myInt = 11"
   ]
  },
  {
   "cell_type": "markdown",
   "id": "0fa98b39-02a0-4e9c-89ca-b32001cc9981",
   "metadata": {
    "tags": []
   },
   "source": [
    "Shorthand for asigning variable type and value with `:=`"
   ]
  },
  {
   "cell_type": "code",
   "execution_count": 3,
   "id": "76f29dca-03a5-4d6a-beb0-6eefaebfb550",
   "metadata": {},
   "outputs": [],
   "source": [
    "mySecondString := \"Another string\""
   ]
  },
  {
   "cell_type": "code",
   "execution_count": 4,
   "id": "34b19f0d-0817-46fd-ae11-9e9ffb8a3b2c",
   "metadata": {},
   "outputs": [
    {
     "name": "stdout",
     "output_type": "stream",
     "text": [
      "Hello 11 Another string\n"
     ]
    },
    {
     "data": {
      "text/plain": [
       "24 <nil>"
      ]
     },
     "execution_count": 4,
     "metadata": {},
     "output_type": "execute_result"
    }
   ],
   "source": [
    "fmt.Println(myString, myInt, mySecondString)"
   ]
  },
  {
   "cell_type": "code",
   "execution_count": 5,
   "id": "b2572dad-6f01-4cac-b27e-3158ccc91eb2",
   "metadata": {},
   "outputs": [],
   "source": [
    "myMap := make(map[string]string)\n",
    "\n",
    "myMap[\"Dog\"] = \"Sookie\"\n",
    "myMap[\"OtherDog\"] = \"Nikky\""
   ]
  },
  {
   "cell_type": "code",
   "execution_count": 6,
   "id": "607c01d6-f64d-4b5a-a290-73c33bf8b882",
   "metadata": {},
   "outputs": [
    {
     "name": "stdout",
     "output_type": "stream",
     "text": [
      "map[Dog:Sookie OtherDog:Nikky]\n"
     ]
    },
    {
     "data": {
      "text/plain": [
       "31 <nil>"
      ]
     },
     "execution_count": 6,
     "metadata": {},
     "output_type": "execute_result"
    }
   ],
   "source": [
    "fmt.Println(myMap)"
   ]
  },
  {
   "cell_type": "markdown",
   "id": "655648d2-51d9-449f-b030-2cf12aba2aab",
   "metadata": {},
   "source": [
    "You can store whatever type of data on a map, for example a User struct"
   ]
  },
  {
   "cell_type": "code",
   "execution_count": 7,
   "id": "360d4fc3-cadb-4122-8ccc-d39cf7a4b0f3",
   "metadata": {},
   "outputs": [],
   "source": [
    "type User struct {\n",
    "    FirstName string\n",
    "    LastName string\n",
    "}\n",
    "\n",
    "myMap := make(map[string]User)"
   ]
  },
  {
   "cell_type": "code",
   "execution_count": 8,
   "id": "dad93fb0-db4a-4404-a0b8-6038843e4867",
   "metadata": {},
   "outputs": [],
   "source": [
    "me := User {\n",
    "    FirstName: \"John\",\n",
    "    LastName: \"Wick\",\n",
    "}\n",
    "\n",
    "myMap[\"me\"] = me"
   ]
  },
  {
   "cell_type": "code",
   "execution_count": 9,
   "id": "15cdeb5c-6b52-43df-8393-f2ba33a59863",
   "metadata": {},
   "outputs": [
    {
     "name": "stdout",
     "output_type": "stream",
     "text": [
      "myMap map[me:{John Wick}]\n"
     ]
    },
    {
     "data": {
      "text/plain": [
       "26 <nil>"
      ]
     },
     "execution_count": 9,
     "metadata": {},
     "output_type": "execute_result"
    }
   ],
   "source": [
    "fmt.Println(\"myMap\", myMap)"
   ]
  },
  {
   "cell_type": "markdown",
   "id": "f69ee1aa-29e6-4be3-b1d9-e2a63e4366a1",
   "metadata": {},
   "source": [
    "To store any type of data use `interface{}`, but you'll have to cast the value to be able to use it"
   ]
  },
  {
   "cell_type": "code",
   "execution_count": 10,
   "id": "9e9f5141-918d-4921-bf3a-3cec453e8427",
   "metadata": {},
   "outputs": [],
   "source": [
    "myMap := make(map[string]interface{})"
   ]
  },
  {
   "cell_type": "code",
   "execution_count": 11,
   "id": "e3bb05a9-866f-42cc-abba-bfd93965f2c2",
   "metadata": {},
   "outputs": [],
   "source": [
    "me := User {\n",
    "    FirstName: \"John\",\n",
    "    LastName: \"Wick\",\n",
    "}\n",
    "\n",
    "myMap[\"me\"] = me"
   ]
  },
  {
   "cell_type": "code",
   "execution_count": 12,
   "id": "47062226-4dba-4020-9d89-d387b4f65f47",
   "metadata": {},
   "outputs": [
    {
     "name": "stdout",
     "output_type": "stream",
     "text": [
      "myMap map[me:{John Wick}]\n"
     ]
    },
    {
     "data": {
      "text/plain": [
       "26 <nil>"
      ]
     },
     "execution_count": 12,
     "metadata": {},
     "output_type": "execute_result"
    }
   ],
   "source": [
    "fmt.Println(\"myMap\", myMap)"
   ]
  },
  {
   "cell_type": "markdown",
   "id": "59f938f6-f54f-4bec-9296-2f7680508d6c",
   "metadata": {},
   "source": [
    "Cast value using `.(User)`"
   ]
  },
  {
   "cell_type": "code",
   "execution_count": 13,
   "id": "891b5e40-44e1-420a-af39-abd28f4d2070",
   "metadata": {},
   "outputs": [
    {
     "name": "stdout",
     "output_type": "stream",
     "text": [
      "John\n"
     ]
    },
    {
     "data": {
      "text/plain": [
       "5 <nil>"
      ]
     },
     "execution_count": 13,
     "metadata": {},
     "output_type": "execute_result"
    }
   ],
   "source": [
    "fmt.Println(myMap[\"me\"].(User).FirstName)"
   ]
  },
  {
   "cell_type": "markdown",
   "id": "c8c7b91a-ea36-465d-800f-3735968346fc",
   "metadata": {},
   "source": [
    "### Slices"
   ]
  },
  {
   "cell_type": "code",
   "execution_count": 14,
   "id": "81dd27cd-c15c-467c-a6c7-1c3837d0eb83",
   "metadata": {},
   "outputs": [],
   "source": [
    "var mySlice []string"
   ]
  },
  {
   "cell_type": "code",
   "execution_count": 15,
   "id": "f162cefe-47c0-49ad-87b3-f1240862e9a1",
   "metadata": {},
   "outputs": [],
   "source": [
    "mySlice = append(mySlice, \"John\")"
   ]
  },
  {
   "cell_type": "code",
   "execution_count": 16,
   "id": "83a8f236-524a-4798-8648-e67c4fe6ddd7",
   "metadata": {},
   "outputs": [
    {
     "name": "stdout",
     "output_type": "stream",
     "text": [
      "[John]\n"
     ]
    },
    {
     "data": {
      "text/plain": [
       "7 <nil>"
      ]
     },
     "execution_count": 16,
     "metadata": {},
     "output_type": "execute_result"
    }
   ],
   "source": [
    "fmt.Println(mySlice)"
   ]
  },
  {
   "cell_type": "code",
   "execution_count": 17,
   "id": "9d0ee8e3-d210-4452-b214-8adf6b944c27",
   "metadata": {},
   "outputs": [],
   "source": [
    "mySlice = append(mySlice, \"Adam\")\n",
    "mySlice = append(mySlice, \"Eve\")"
   ]
  },
  {
   "cell_type": "code",
   "execution_count": 18,
   "id": "612ba313-3041-4a8c-a0c5-e3417299624f",
   "metadata": {},
   "outputs": [
    {
     "name": "stdout",
     "output_type": "stream",
     "text": [
      "[John Adam Eve]\n"
     ]
    },
    {
     "data": {
      "text/plain": [
       "16 <nil>"
      ]
     },
     "execution_count": 18,
     "metadata": {},
     "output_type": "execute_result"
    }
   ],
   "source": [
    "fmt.Println(mySlice)"
   ]
  },
  {
   "cell_type": "markdown",
   "id": "69ca8d8d-4d78-4680-91ca-3cd239be4377",
   "metadata": {},
   "source": [
    "### Sort a slice of ints"
   ]
  },
  {
   "cell_type": "code",
   "execution_count": 19,
   "id": "9eba4970-6bd7-4f31-9af6-d6155f1516ed",
   "metadata": {},
   "outputs": [],
   "source": [
    "import \"sort\""
   ]
  },
  {
   "cell_type": "code",
   "execution_count": 20,
   "id": "d4a2be4f-d646-44fa-ad6e-dbca79e2cc68",
   "metadata": {},
   "outputs": [],
   "source": [
    "var mySlice []int"
   ]
  },
  {
   "cell_type": "code",
   "execution_count": 21,
   "id": "3fc84928-1f14-495d-a738-c461b84fea00",
   "metadata": {},
   "outputs": [],
   "source": [
    "mySlice = append(mySlice, 2)\n",
    "mySlice = append(mySlice, 3)\n",
    "mySlice = append(mySlice, 1)"
   ]
  },
  {
   "cell_type": "code",
   "execution_count": 22,
   "id": "d7116c32-84ab-46b4-a00d-7f1d4de10386",
   "metadata": {},
   "outputs": [
    {
     "name": "stdout",
     "output_type": "stream",
     "text": [
      "[2 3 1]\n"
     ]
    },
    {
     "data": {
      "text/plain": [
       "8 <nil>"
      ]
     },
     "execution_count": 22,
     "metadata": {},
     "output_type": "execute_result"
    }
   ],
   "source": [
    "fmt.Println(mySlice)"
   ]
  },
  {
   "cell_type": "code",
   "execution_count": 23,
   "id": "14d38a4a-723e-41f5-89a2-e6e1c5cec359",
   "metadata": {},
   "outputs": [],
   "source": [
    "sort.Ints(mySlice)"
   ]
  },
  {
   "cell_type": "code",
   "execution_count": 24,
   "id": "0da587a9-1ec1-4cb6-87ac-0529f43e6ee6",
   "metadata": {},
   "outputs": [
    {
     "name": "stdout",
     "output_type": "stream",
     "text": [
      "[1 2 3]\n"
     ]
    },
    {
     "data": {
      "text/plain": [
       "8 <nil>"
      ]
     },
     "execution_count": 24,
     "metadata": {},
     "output_type": "execute_result"
    }
   ],
   "source": [
    "fmt.Println(mySlice)"
   ]
  },
  {
   "cell_type": "markdown",
   "id": "1025650f-eaec-49bd-8fdf-8b87eec39155",
   "metadata": {},
   "source": [
    "### Sort with custom comparator"
   ]
  },
  {
   "cell_type": "code",
   "execution_count": 25,
   "id": "c82fda32-97da-4589-a8ec-97fa3a43323d",
   "metadata": {},
   "outputs": [
    {
     "name": "stdout",
     "output_type": "stream",
     "text": [
      "[{David 2} {Eve 2} {Alice 23} {Bob 25}]\n"
     ]
    },
    {
     "data": {
      "text/plain": [
       "40 <nil>"
      ]
     },
     "execution_count": 25,
     "metadata": {},
     "output_type": "execute_result"
    }
   ],
   "source": [
    "family := []struct {\n",
    "    Name string\n",
    "    Age  int\n",
    "}{\n",
    "    {\"Alice\", 23},\n",
    "    {\"David\", 2},\n",
    "    {\"Eve\", 2},\n",
    "    {\"Bob\", 25},\n",
    "}\n",
    "\n",
    "// Sort by age, keeping original order or equal elements.\n",
    "sort.SliceStable(family, func(i, j int) bool {\n",
    "    return family[i].Age < family[j].Age\n",
    "})\n",
    "fmt.Println(family) // [{David 2} {Eve 2} {Alice 23} {Bob 25}]"
   ]
  },
  {
   "cell_type": "markdown",
   "id": "8f2cc7c1-8343-46ca-b42a-f3945f315b90",
   "metadata": {},
   "source": [
    "### Sort custom data structures\n",
    "* Use the generic sort.Sort and sort.Stable functions.\n",
    "* They sort any collection that implements the sort.Interface interface."
   ]
  },
  {
   "cell_type": "code",
   "execution_count": 26,
   "id": "b5da85cd-3187-4e52-88fd-ee492c9390d2",
   "metadata": {},
   "outputs": [],
   "source": [
    "type Interface interface {\n",
    "        // Len is the number of elements in the collection.\n",
    "        Len() int\n",
    "        // Less reports whether the element with\n",
    "        // index i should sort before the element with index j.\n",
    "        Less(i, j int) bool\n",
    "        // Swap swaps the elements with indexes i and j.\n",
    "        Swap(i, j int)\n",
    "}"
   ]
  },
  {
   "cell_type": "code",
   "execution_count": 27,
   "id": "d6411793-1389-43df-b5dd-dee21c207fd2",
   "metadata": {},
   "outputs": [],
   "source": [
    "type Person struct {\n",
    "    Name string\n",
    "    Age  int\n",
    "}\n",
    "\n",
    "// ByAge implements sort.Interface based on the Age field.\n",
    "type ByAge []Person\n",
    "\n",
    "func (a ByAge) Len() int           { return len(a) }\n",
    "func (a ByAge) Less(i, j int) bool { return a[i].Age < a[j].Age }\n",
    "func (a ByAge) Swap(i, j int)      { a[i], a[j] = a[j], a[i] }"
   ]
  },
  {
   "cell_type": "code",
   "execution_count": 28,
   "id": "4301208c-5c3d-46a9-80aa-ab1c48a9a586",
   "metadata": {},
   "outputs": [
    {
     "name": "stdout",
     "output_type": "stream",
     "text": [
      "[{Eve 2} {Alice 23} {Bob 25}]\n"
     ]
    },
    {
     "data": {
      "text/plain": [
       "30 <nil>"
      ]
     },
     "execution_count": 28,
     "metadata": {},
     "output_type": "execute_result"
    }
   ],
   "source": [
    "family := []Person{\n",
    "        {\"Alice\", 23},\n",
    "        {\"Eve\", 2},\n",
    "        {\"Bob\", 25},\n",
    "    }\n",
    "    sort.Sort(ByAge(family))\n",
    "    fmt.Println(family) // [{Eve 2} {Alice 23} {Bob 25}]"
   ]
  },
  {
   "cell_type": "markdown",
   "id": "67984d81-2b5e-4953-864c-6b1485a4c328",
   "metadata": {},
   "source": [
    "### Shorthand for creating slices"
   ]
  },
  {
   "cell_type": "code",
   "execution_count": 29,
   "id": "b0cbf865-5b5c-4839-84c7-d9cf06d8f4dd",
   "metadata": {},
   "outputs": [],
   "source": [
    "numbers := []int{1, 2, 3, 4, 5, 6, 7}"
   ]
  },
  {
   "cell_type": "code",
   "execution_count": 30,
   "id": "5be5b3f5-822a-4820-91c1-b68a959f7836",
   "metadata": {},
   "outputs": [
    {
     "name": "stdout",
     "output_type": "stream",
     "text": [
      "[1 2 3 4 5 6 7]\n"
     ]
    },
    {
     "data": {
      "text/plain": [
       "16 <nil>"
      ]
     },
     "execution_count": 30,
     "metadata": {},
     "output_type": "execute_result"
    }
   ],
   "source": [
    "fmt.Println(numbers)"
   ]
  },
  {
   "cell_type": "markdown",
   "id": "295d27a8-7d9e-4803-8ff2-09603499f976",
   "metadata": {},
   "source": [
    "Print only range number from the slice"
   ]
  },
  {
   "cell_type": "code",
   "execution_count": 31,
   "id": "22e307fa-804d-4565-bbda-750dfdcaafbe",
   "metadata": {},
   "outputs": [
    {
     "name": "stdout",
     "output_type": "stream",
     "text": [
      "[5 6]\n"
     ]
    },
    {
     "data": {
      "text/plain": [
       "6 <nil>"
      ]
     },
     "execution_count": 31,
     "metadata": {},
     "output_type": "execute_result"
    }
   ],
   "source": [
    "fmt.Println(numbers[4:6])"
   ]
  },
  {
   "cell_type": "code",
   "execution_count": 32,
   "id": "f5303dfd-671b-4635-b3dc-84086ae8acd8",
   "metadata": {},
   "outputs": [
    {
     "name": "stdout",
     "output_type": "stream",
     "text": [
      "[1 2 3 4 5 6]\n"
     ]
    },
    {
     "data": {
      "text/plain": [
       "14 <nil>"
      ]
     },
     "execution_count": 32,
     "metadata": {},
     "output_type": "execute_result"
    }
   ],
   "source": [
    "fmt.Println(numbers[:6])"
   ]
  },
  {
   "cell_type": "code",
   "execution_count": 33,
   "id": "80af4a62-8a9c-46a1-b0cb-163fcb17feb5",
   "metadata": {},
   "outputs": [
    {
     "name": "stdout",
     "output_type": "stream",
     "text": [
      "[5 6 7]\n"
     ]
    },
    {
     "data": {
      "text/plain": [
       "8 <nil>"
      ]
     },
     "execution_count": 33,
     "metadata": {},
     "output_type": "execute_result"
    }
   ],
   "source": [
    "fmt.Println(numbers[4:])"
   ]
  },
  {
   "cell_type": "code",
   "execution_count": 34,
   "id": "a42a16ea-3f1b-4986-9054-dcbd3687c5f8",
   "metadata": {},
   "outputs": [
    {
     "ename": "ERROR",
     "evalue": "repl.go:1:22: negative slice index: -2 == Expr{Type: int, Value: -2}",
     "output_type": "error",
     "traceback": [
      "repl.go:1:22: negative slice index: -2 == Expr{Type: int, Value: -2}"
     ]
    }
   ],
   "source": [
    "fmt.Println(numbers[-2:])"
   ]
  },
  {
   "cell_type": "code",
   "execution_count": null,
   "id": "bd51af29-3e27-45ba-8edd-86d7b6b6bd00",
   "metadata": {},
   "outputs": [],
   "source": []
  }
 ],
 "metadata": {
  "kernelspec": {
   "display_name": "Go",
   "language": "go",
   "name": "gophernotes"
  },
  "language_info": {
   "codemirror_mode": "",
   "file_extension": ".go",
   "mimetype": "",
   "name": "go",
   "nbconvert_exporter": "",
   "pygments_lexer": "",
   "version": "go1.17.2"
  }
 },
 "nbformat": 4,
 "nbformat_minor": 5
}
