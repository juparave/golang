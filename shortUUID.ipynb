{
 "cells": [
  {
   "cell_type": "code",
   "execution_count": 2,
   "metadata": {},
   "outputs": [],
   "source": [
    "import (\n",
    "\t\"fmt\"\n",
    "\t\"strings\"\n",
    "\t\"math\"\n",
    "\t\"math/rand\"\n",
    ")"
   ]
  },
  {
   "cell_type": "code",
   "execution_count": 3,
   "metadata": {},
   "outputs": [],
   "source": [
    "const alphabet = \"0123456789abcdefghijklmnopqrstuvwxyzABCDEFGHJKLMNPQRSTUVWXYZ\";\n",
    "const numerals = \"0123456789abcdefghijklmnopqrstuvwxyzABCDEFGHIJKLMNOPQRSTUVWXYZ_\";"
   ]
  },
  {
   "cell_type": "code",
   "execution_count": 21,
   "metadata": {},
   "outputs": [],
   "source": [
    "func encode(num int64, base int, numerals string) string {\n",
    "\tvar result string\n",
    "\tif numerals == \"\" {\n",
    "\t\tnumerals = alphabet\n",
    "\t}\n",
    "\tfor num > 0 {\n",
    "\t\tresult = string(numerals[num % int64(base)]) + result\n",
    "\t\tnum /= int64(base)\n",
    "\t}\n",
    "\treturn result\n",
    "}\n",
    "\n",
    "func decode(s string, base int, numerals string) int {\n",
    "\tvar result int\n",
    "\tvar fbase float64 = float64(base)\n",
    "\tif numerals == \"\" {\n",
    "\t\tnumerals = alphabet\n",
    "\t}\n",
    "\t// reverse string\n",
    "\trunes := []rune(s)\n",
    "\tfor i, j := 0, len(runes)-1; i < j; i, j = i+1, j-1 {\n",
    "\t\trunes[i], runes[j] = runes[j], runes[i]\n",
    "\t}\n",
    "\ts = string(runes)\n",
    "\tfor i, c := range s {\n",
    "\t\tvar fi float64 = float64(i)\n",
    "\t\tvar pow float64 = math.Pow(fbase, fi)\n",
    "\t\tresult += strings.Index(numerals, string(c)) * int( pow )\n",
    "\t\tfmt.Println(string(c), strings.Index(numerals, string(c)), base, pow)\n",
    "\t}\n",
    "\treturn result\n",
    "}\n",
    "\n",
    "func ShortUUID(length int) string {\n",
    "\t// get int value of uuid\n",
    "\tuuid := rand.Int63()\n",
    "\n",
    "\t// encode it to base62 until we get the length we want\n",
    "\tshortuuid := encode(uuid, len(numerals), numerals)\n",
    "\tfor len(shortuuid) < length {\n",
    "\t\tuuid = rand.Int63()\n",
    "\t\tshortuuid = encode(uuid, len(numerals), numerals)\n",
    "\t}\n",
    "\treturn shortuuid[0:length]\n",
    "}"
   ]
  },
  {
   "cell_type": "code",
   "execution_count": 54,
   "metadata": {},
   "outputs": [
    {
     "data": {
      "text/plain": [
       "1ClsTGV5B9y"
      ]
     },
     "execution_count": 54,
     "metadata": {},
     "output_type": "execute_result"
    }
   ],
   "source": [
    "encode(991222289821213774, len(alphabet), alphabet)"
   ]
  },
  {
   "cell_type": "code",
   "execution_count": 59,
   "metadata": {},
   "outputs": [
    {
     "name": "stdout",
     "output_type": "stream",
     "text": [
      "y 34 60 1\n",
      "9 9 60 60\n",
      "B 37 60 3600\n",
      "5 5 60 216000\n",
      "V 55 60 1.296e+07\n",
      "G 42 60 7.776e+08\n",
      "T 53 60 4.6656e+10\n",
      "s 28 60 2.79936e+12\n",
      "l 21 60 1.679616e+14\n",
      "C 38 60 1.0077696e+16\n",
      "1 1 60 6.0466176e+17\n"
     ]
    },
    {
     "data": {
      "text/plain": [
       "991222289821213774"
      ]
     },
     "execution_count": 59,
     "metadata": {},
     "output_type": "execute_result"
    }
   ],
   "source": [
    "decode(\"1ClsTGV5B9y\", len(alphabet), alphabet)"
   ]
  },
  {
   "cell_type": "code",
   "execution_count": 60,
   "metadata": {},
   "outputs": [
    {
     "data": {
      "text/plain": [
       "0"
      ]
     },
     "execution_count": 60,
     "metadata": {},
     "output_type": "execute_result"
    }
   ],
   "source": [
    "991222289821213774 - 991222289821213774"
   ]
  },
  {
   "cell_type": "code",
   "execution_count": 10,
   "metadata": {},
   "outputs": [
    {
     "data": {
      "text/plain": [
       "9223372036854775807"
      ]
     },
     "execution_count": 10,
     "metadata": {},
     "output_type": "execute_result"
    }
   ],
   "source": [
    "rand.Intn(math.MaxInt64)\n",
    "math.MaxInt64"
   ]
  },
  {
   "cell_type": "code",
   "execution_count": 20,
   "metadata": {},
   "outputs": [
    {
     "data": {
      "text/plain": [
       "20pHoUjrJxy"
      ]
     },
     "execution_count": 20,
     "metadata": {},
     "output_type": "execute_result"
    }
   ],
   "source": [
    "ShortUUID(11)"
   ]
  }
 ],
 "metadata": {
  "kernelspec": {
   "display_name": "Go",
   "language": "go",
   "name": "go"
  },
  "language_info": {
   "codemirror_mode": "",
   "file_extension": ".go",
   "mimetype": "",
   "name": "go",
   "nbconvert_exporter": "",
   "pygments_lexer": "",
   "version": "go1.17.2"
  },
  "orig_nbformat": 4
 },
 "nbformat": 4,
 "nbformat_minor": 2
}
